{
 "cells": [
  {
   "cell_type": "markdown",
   "metadata": {},
   "source": [
    "#### Loading the IMDB dataset"
   ]
  },
  {
   "cell_type": "code",
   "execution_count": 1,
   "metadata": {},
   "outputs": [
    {
     "name": "stderr",
     "output_type": "stream",
     "text": [
      "Using TensorFlow backend.\n"
     ]
    }
   ],
   "source": [
    "from keras.datasets import imdb\n",
    "\n",
    "import numpy as np\n",
    "\n",
    "np_load_old = np.load\n",
    "np.load = lambda *a,**k: np_load_old(*a, allow_pickle=True, **k)\n",
    "\n",
    "(train_data, train_labels), (test_data,  test_labels) = imdb.load_data(num_words=10000)\n",
    "\n",
    "np.load = np_load_old"
   ]
  },
  {
   "cell_type": "code",
   "execution_count": 2,
   "metadata": {},
   "outputs": [],
   "source": [
    "word_index = imdb.get_word_index()\n",
    "reverse_word_index = dict(\n",
    "    [(value, key) for (key, value) in word_index.items()])\n",
    "decoded_review = ' '.join(\n",
    "    [reverse_word_index.get(i - 3, '?') for i in train_data[0]])"
   ]
  },
  {
   "cell_type": "markdown",
   "metadata": {},
   "source": [
    "#### Preparing the data\n",
    "Encoding the Integer sequences into a binary matrix"
   ]
  },
  {
   "cell_type": "code",
   "execution_count": 3,
   "metadata": {},
   "outputs": [],
   "source": [
    "def vectorize_sequences(sequences, dimension=10000):\n",
    "    results = np.zeros((len(sequences), dimension))\n",
    "    for i, sequence in enumerate(sequences):\n",
    "        results[i, sequence] = 1.\n",
    "    return results\n",
    "x_train = vectorize_sequences(train_data)\n",
    "x_test = vectorize_sequences(test_data)"
   ]
  },
  {
   "cell_type": "code",
   "execution_count": 4,
   "metadata": {},
   "outputs": [],
   "source": [
    "y_train = np.asarray(train_labels).astype('float32')\n",
    "y_test = np.asarray(test_labels).astype('float32')"
   ]
  },
  {
   "cell_type": "markdown",
   "metadata": {},
   "source": [
    "#### Setting aside a validation set"
   ]
  },
  {
   "cell_type": "code",
   "execution_count": 5,
   "metadata": {},
   "outputs": [],
   "source": [
    "x_val = x_train[: 10000]\n",
    "partial_x_train = x_train[10000:]\n",
    "y_val = y_train[:10000]\n",
    "partial_y_train = y_train[10000:]"
   ]
  },
  {
   "cell_type": "markdown",
   "metadata": {},
   "source": [
    "#### Building the model\n",
    "Original model"
   ]
  },
  {
   "cell_type": "code",
   "execution_count": 6,
   "metadata": {},
   "outputs": [
    {
     "name": "stderr",
     "output_type": "stream",
     "text": [
      "WARNING: Logging before flag parsing goes to stderr.\n",
      "W0924 11:12:55.262918 4549924288 deprecation_wrapper.py:119] From /anaconda3/envs/keras-tensorflow/lib/python3.6/site-packages/keras/backend/tensorflow_backend.py:74: The name tf.get_default_graph is deprecated. Please use tf.compat.v1.get_default_graph instead.\n",
      "\n",
      "W0924 11:12:55.307776 4549924288 deprecation_wrapper.py:119] From /anaconda3/envs/keras-tensorflow/lib/python3.6/site-packages/keras/backend/tensorflow_backend.py:517: The name tf.placeholder is deprecated. Please use tf.compat.v1.placeholder instead.\n",
      "\n",
      "W0924 11:12:55.314235 4549924288 deprecation_wrapper.py:119] From /anaconda3/envs/keras-tensorflow/lib/python3.6/site-packages/keras/backend/tensorflow_backend.py:4138: The name tf.random_uniform is deprecated. Please use tf.random.uniform instead.\n",
      "\n"
     ]
    },
    {
     "name": "stdout",
     "output_type": "stream",
     "text": [
      "_________________________________________________________________\n",
      "Layer (type)                 Output Shape              Param #   \n",
      "=================================================================\n",
      "dense_1 (Dense)              (None, 16)                160016    \n",
      "_________________________________________________________________\n",
      "dense_2 (Dense)              (None, 16)                272       \n",
      "_________________________________________________________________\n",
      "dense_3 (Dense)              (None, 1)                 17        \n",
      "=================================================================\n",
      "Total params: 160,305\n",
      "Trainable params: 160,305\n",
      "Non-trainable params: 0\n",
      "_________________________________________________________________\n"
     ]
    }
   ],
   "source": [
    "from keras.models import Sequential\n",
    "from keras.layers import Dense\n",
    "\n",
    "model = Sequential()\n",
    "model.add(Dense(16, activation='relu', input_shape=(10000,)))\n",
    "model.add(Dense(16, activation='relu'))\n",
    "model.add(Dense(1, activation='sigmoid'))\n",
    "model.summary()"
   ]
  },
  {
   "cell_type": "markdown",
   "metadata": {},
   "source": [
    "#### Training the model"
   ]
  },
  {
   "cell_type": "code",
   "execution_count": 7,
   "metadata": {},
   "outputs": [
    {
     "name": "stderr",
     "output_type": "stream",
     "text": [
      "W0924 11:12:55.369317 4549924288 deprecation_wrapper.py:119] From /anaconda3/envs/keras-tensorflow/lib/python3.6/site-packages/keras/optimizers.py:790: The name tf.train.Optimizer is deprecated. Please use tf.compat.v1.train.Optimizer instead.\n",
      "\n",
      "W0924 11:12:55.388282 4549924288 deprecation_wrapper.py:119] From /anaconda3/envs/keras-tensorflow/lib/python3.6/site-packages/keras/backend/tensorflow_backend.py:3376: The name tf.log is deprecated. Please use tf.math.log instead.\n",
      "\n",
      "W0924 11:12:55.394793 4549924288 deprecation.py:323] From /anaconda3/envs/keras-tensorflow/lib/python3.6/site-packages/tensorflow/python/ops/nn_impl.py:180: add_dispatch_support.<locals>.wrapper (from tensorflow.python.ops.array_ops) is deprecated and will be removed in a future version.\n",
      "Instructions for updating:\n",
      "Use tf.where in 2.0, which has the same broadcast rule as np.where\n",
      "W0924 11:12:55.787724 4549924288 deprecation_wrapper.py:119] From /anaconda3/envs/keras-tensorflow/lib/python3.6/site-packages/keras/backend/tensorflow_backend.py:986: The name tf.assign_add is deprecated. Please use tf.compat.v1.assign_add instead.\n",
      "\n"
     ]
    },
    {
     "name": "stdout",
     "output_type": "stream",
     "text": [
      "Train on 15000 samples, validate on 10000 samples\n",
      "Epoch 1/20\n",
      "15000/15000 [==============================] - 4s 251us/step - loss: 0.5084 - acc: 0.7813 - val_loss: 0.3797 - val_acc: 0.8684\n",
      "Epoch 2/20\n",
      "15000/15000 [==============================] - 2s 133us/step - loss: 0.3004 - acc: 0.9046 - val_loss: 0.3004 - val_acc: 0.8897\n",
      "Epoch 3/20\n",
      "15000/15000 [==============================] - 1s 80us/step - loss: 0.2179 - acc: 0.9287 - val_loss: 0.3087 - val_acc: 0.8711\n",
      "Epoch 4/20\n",
      "15000/15000 [==============================] - 1s 79us/step - loss: 0.1750 - acc: 0.9438 - val_loss: 0.2840 - val_acc: 0.8833\n",
      "Epoch 5/20\n",
      "15000/15000 [==============================] - 1s 76us/step - loss: 0.1427 - acc: 0.9543 - val_loss: 0.2841 - val_acc: 0.8872\n",
      "Epoch 6/20\n",
      "15000/15000 [==============================] - 1s 80us/step - loss: 0.1150 - acc: 0.9650 - val_loss: 0.3164 - val_acc: 0.8771\n",
      "Epoch 7/20\n",
      "15000/15000 [==============================] - 1s 75us/step - loss: 0.0980 - acc: 0.9707 - val_loss: 0.3127 - val_acc: 0.8846\n",
      "Epoch 8/20\n",
      "15000/15000 [==============================] - 1s 76us/step - loss: 0.0807 - acc: 0.9764 - val_loss: 0.3858 - val_acc: 0.8648\n",
      "Epoch 9/20\n",
      "15000/15000 [==============================] - 1s 78us/step - loss: 0.0661 - acc: 0.9821 - val_loss: 0.3635 - val_acc: 0.8780\n",
      "Epoch 10/20\n",
      "15000/15000 [==============================] - 1s 75us/step - loss: 0.0561 - acc: 0.9852 - val_loss: 0.3842 - val_acc: 0.8795\n",
      "Epoch 11/20\n",
      "15000/15000 [==============================] - 1s 76us/step - loss: 0.0438 - acc: 0.9895 - val_loss: 0.4152 - val_acc: 0.8780\n",
      "Epoch 12/20\n",
      "15000/15000 [==============================] - 1s 76us/step - loss: 0.0381 - acc: 0.9921 - val_loss: 0.4531 - val_acc: 0.8688\n",
      "Epoch 13/20\n",
      "15000/15000 [==============================] - 1s 75us/step - loss: 0.0300 - acc: 0.9929 - val_loss: 0.4700 - val_acc: 0.8727\n",
      "Epoch 14/20\n",
      "15000/15000 [==============================] - 1s 75us/step - loss: 0.0247 - acc: 0.9945 - val_loss: 0.5024 - val_acc: 0.8721\n",
      "Epoch 15/20\n",
      "15000/15000 [==============================] - 1s 75us/step - loss: 0.0179 - acc: 0.9976 - val_loss: 0.5318 - val_acc: 0.8705\n",
      "Epoch 16/20\n",
      "15000/15000 [==============================] - 1s 75us/step - loss: 0.0184 - acc: 0.9960 - val_loss: 0.5649 - val_acc: 0.8698\n",
      "Epoch 17/20\n",
      "15000/15000 [==============================] - 1s 74us/step - loss: 0.0099 - acc: 0.9994 - val_loss: 0.6374 - val_acc: 0.8613\n",
      "Epoch 18/20\n",
      "15000/15000 [==============================] - 1s 75us/step - loss: 0.0134 - acc: 0.9968 - val_loss: 0.6370 - val_acc: 0.8681\n",
      "Epoch 19/20\n",
      "15000/15000 [==============================] - 1s 75us/step - loss: 0.0058 - acc: 0.9997 - val_loss: 0.7195 - val_acc: 0.8577\n",
      "Epoch 20/20\n",
      "15000/15000 [==============================] - 1s 75us/step - loss: 0.0090 - acc: 0.9983 - val_loss: 0.6968 - val_acc: 0.8663\n"
     ]
    }
   ],
   "source": [
    "from keras import optimizers\n",
    "\n",
    "model.compile(optimizer = 'rmsprop',\n",
    "                loss = 'binary_crossentropy',\n",
    "                metrics = ['acc'])\n",
    "\n",
    "history = model.fit(partial_x_train,\n",
    "                    partial_y_train,\n",
    "                    epochs = 20,\n",
    "                    batch_size = 512,\n",
    "                    validation_data = (x_val, y_val))"
   ]
  },
  {
   "cell_type": "code",
   "execution_count": 8,
   "metadata": {},
   "outputs": [],
   "source": [
    "original_loss = history.history['val_loss']\n",
    "original_loss_training = history.history['loss']"
   ]
  },
  {
   "cell_type": "markdown",
   "metadata": {},
   "source": [
    "#### Version of the model with lower capacity"
   ]
  },
  {
   "cell_type": "code",
   "execution_count": 9,
   "metadata": {},
   "outputs": [
    {
     "name": "stdout",
     "output_type": "stream",
     "text": [
      "_________________________________________________________________\n",
      "Layer (type)                 Output Shape              Param #   \n",
      "=================================================================\n",
      "dense_4 (Dense)              (None, 4)                 40004     \n",
      "_________________________________________________________________\n",
      "dense_5 (Dense)              (None, 4)                 20        \n",
      "_________________________________________________________________\n",
      "dense_6 (Dense)              (None, 1)                 5         \n",
      "=================================================================\n",
      "Total params: 40,029\n",
      "Trainable params: 40,029\n",
      "Non-trainable params: 0\n",
      "_________________________________________________________________\n"
     ]
    }
   ],
   "source": [
    "low = Sequential()\n",
    "low.add(Dense(4, activation='relu', input_shape=(10000,)))\n",
    "low.add(Dense(4, activation='relu'))\n",
    "low.add(Dense(1, activation='sigmoid'))\n",
    "low.summary()"
   ]
  },
  {
   "cell_type": "code",
   "execution_count": 10,
   "metadata": {},
   "outputs": [
    {
     "name": "stdout",
     "output_type": "stream",
     "text": [
      "Train on 15000 samples, validate on 10000 samples\n",
      "Epoch 1/20\n",
      "15000/15000 [==============================] - 2s 125us/step - loss: 0.6050 - acc: 0.7685 - val_loss: 0.5338 - val_acc: 0.8324\n",
      "Epoch 2/20\n",
      "15000/15000 [==============================] - 1s 69us/step - loss: 0.4635 - acc: 0.8736 - val_loss: 0.4312 - val_acc: 0.8628\n",
      "Epoch 3/20\n",
      "15000/15000 [==============================] - 1s 68us/step - loss: 0.3712 - acc: 0.8937 - val_loss: 0.3685 - val_acc: 0.8749\n",
      "Epoch 4/20\n",
      "15000/15000 [==============================] - 1s 70us/step - loss: 0.3052 - acc: 0.9095 - val_loss: 0.3337 - val_acc: 0.8755\n",
      "Epoch 5/20\n",
      "15000/15000 [==============================] - 1s 70us/step - loss: 0.2585 - acc: 0.9205 - val_loss: 0.3015 - val_acc: 0.8869\n",
      "Epoch 6/20\n",
      "15000/15000 [==============================] - 1s 70us/step - loss: 0.2233 - acc: 0.9293 - val_loss: 0.2844 - val_acc: 0.8913\n",
      "Epoch 7/20\n",
      "15000/15000 [==============================] - 1s 69us/step - loss: 0.1961 - acc: 0.9375 - val_loss: 0.2792 - val_acc: 0.8907\n",
      "Epoch 8/20\n",
      "15000/15000 [==============================] - 1s 73us/step - loss: 0.1745 - acc: 0.9453 - val_loss: 0.2718 - val_acc: 0.8903\n",
      "Epoch 9/20\n",
      "15000/15000 [==============================] - 1s 69us/step - loss: 0.1556 - acc: 0.9527 - val_loss: 0.2713 - val_acc: 0.8904\n",
      "Epoch 10/20\n",
      "15000/15000 [==============================] - 1s 71us/step - loss: 0.1396 - acc: 0.9563 - val_loss: 0.2771 - val_acc: 0.8886\n",
      "Epoch 11/20\n",
      "15000/15000 [==============================] - 1s 70us/step - loss: 0.1258 - acc: 0.9617 - val_loss: 0.2788 - val_acc: 0.8908\n",
      "Epoch 12/20\n",
      "15000/15000 [==============================] - 1s 70us/step - loss: 0.1127 - acc: 0.9669 - val_loss: 0.2909 - val_acc: 0.8846\n",
      "Epoch 13/20\n",
      "15000/15000 [==============================] - 1s 69us/step - loss: 0.1022 - acc: 0.9714 - val_loss: 0.2925 - val_acc: 0.8880\n",
      "Epoch 14/20\n",
      "15000/15000 [==============================] - 1s 69us/step - loss: 0.0921 - acc: 0.9748 - val_loss: 0.3018 - val_acc: 0.8860\n",
      "Epoch 15/20\n",
      "15000/15000 [==============================] - 1s 69us/step - loss: 0.0828 - acc: 0.9769 - val_loss: 0.3144 - val_acc: 0.8857\n",
      "Epoch 16/20\n",
      "15000/15000 [==============================] - 1s 70us/step - loss: 0.0745 - acc: 0.9805 - val_loss: 0.3338 - val_acc: 0.8807\n",
      "Epoch 17/20\n",
      "15000/15000 [==============================] - 1s 69us/step - loss: 0.0668 - acc: 0.9831 - val_loss: 0.3378 - val_acc: 0.8844\n",
      "Epoch 18/20\n",
      "15000/15000 [==============================] - 1s 69us/step - loss: 0.0600 - acc: 0.9851 - val_loss: 0.3567 - val_acc: 0.8791\n",
      "Epoch 19/20\n",
      "15000/15000 [==============================] - 1s 70us/step - loss: 0.0535 - acc: 0.9879 - val_loss: 0.3686 - val_acc: 0.8827\n",
      "Epoch 20/20\n",
      "15000/15000 [==============================] - 1s 74us/step - loss: 0.0474 - acc: 0.9893 - val_loss: 0.3834 - val_acc: 0.8799\n"
     ]
    }
   ],
   "source": [
    "low.compile(optimizer = 'rmsprop',\n",
    "            loss = 'binary_crossentropy',\n",
    "            metrics = ['acc'])\n",
    "\n",
    "historylow = low.fit(partial_x_train,\n",
    "                    partial_y_train,\n",
    "                    epochs = 20,\n",
    "                    batch_size = 512,\n",
    "                    validation_data = (x_val, y_val))"
   ]
  },
  {
   "cell_type": "code",
   "execution_count": 11,
   "metadata": {},
   "outputs": [],
   "source": [
    "low_loss = historylow.history['val_loss']"
   ]
  },
  {
   "cell_type": "markdown",
   "metadata": {},
   "source": [
    "#### Plotting the validation loss"
   ]
  },
  {
   "cell_type": "code",
   "execution_count": 12,
   "metadata": {},
   "outputs": [
    {
     "data": {
      "image/png": "[encoded data removed]",
      "text/plain": [
       "<Figure size 432x288 with 1 Axes>"
      ]
     },
     "metadata": {
      "needs_background": "light"
     },
     "output_type": "display_data"
    }
   ],
   "source": [
    "%matplotlib inline\n",
    "import matplotlib.pyplot as plt\n",
    "\n",
    "epochs = range(1, len(original_loss) + 1)\n",
    "plt.plot(epochs, original_loss, 'b+', label='Original model')\n",
    "plt.plot(epochs, low_loss, 'bo', label='Smaller model')\n",
    "plt.title('Effect of model capacity on validation loss')\n",
    "plt.xlabel('Epochs')\n",
    "plt.ylabel('Validation Loss')\n",
    "plt.legend()\n",
    "plt.grid()\n",
    "plt.show()"
   ]
  },
  {
   "cell_type": "markdown",
   "metadata": {},
   "source": [
    "#### Version of the model with higher capacity"
   ]
  },
  {
   "cell_type": "code",
   "execution_count": 13,
   "metadata": {},
   "outputs": [
    {
     "name": "stdout",
     "output_type": "stream",
     "text": [
      "_________________________________________________________________\n",
      "Layer (type)                 Output Shape              Param #   \n",
      "=================================================================\n",
      "dense_7 (Dense)              (None, 512)               5120512   \n",
      "_________________________________________________________________\n",
      "dense_8 (Dense)              (None, 512)               262656    \n",
      "_________________________________________________________________\n",
      "dense_9 (Dense)              (None, 1)                 513       \n",
      "=================================================================\n",
      "Total params: 5,383,681\n",
      "Trainable params: 5,383,681\n",
      "Non-trainable params: 0\n",
      "_________________________________________________________________\n"
     ]
    }
   ],
   "source": [
    "high = Sequential()\n",
    "high.add(Dense(512, activation='relu', input_shape=(10000,)))\n",
    "high.add(Dense(512, activation='relu'))\n",
    "high.add(Dense(1, activation='sigmoid'))\n",
    "high.summary()"
   ]
  },
  {
   "cell_type": "code",
   "execution_count": 14,
   "metadata": {},
   "outputs": [
    {
     "name": "stdout",
     "output_type": "stream",
     "text": [
      "Train on 15000 samples, validate on 10000 samples\n",
      "Epoch 1/20\n",
      "15000/15000 [==============================] - 8s 534us/step - loss: 0.5433 - acc: 0.7730 - val_loss: 0.3106 - val_acc: 0.8756\n",
      "Epoch 2/20\n",
      "15000/15000 [==============================] - 7s 479us/step - loss: 0.2679 - acc: 0.8939 - val_loss: 0.2717 - val_acc: 0.8906\n",
      "Epoch 3/20\n",
      "15000/15000 [==============================] - 9s 579us/step - loss: 0.1482 - acc: 0.9447 - val_loss: 0.2803 - val_acc: 0.8912\n",
      "Epoch 4/20\n",
      "15000/15000 [==============================] - 9s 583us/step - loss: 0.0773 - acc: 0.9732 - val_loss: 0.5013 - val_acc: 0.8613\n",
      "Epoch 5/20\n",
      "15000/15000 [==============================] - 7s 477us/step - loss: 0.0776 - acc: 0.9803 - val_loss: 0.3639 - val_acc: 0.8913\n",
      "Epoch 6/20\n",
      "15000/15000 [==============================] - 8s 545us/step - loss: 0.0032 - acc: 0.9995 - val_loss: 0.5318 - val_acc: 0.8810\n",
      "Epoch 7/20\n",
      "15000/15000 [==============================] - 8s 550us/step - loss: 5.0807e-04 - acc: 1.0000 - val_loss: 0.5729 - val_acc: 0.8876\n",
      "Epoch 8/20\n",
      "15000/15000 [==============================] - 7s 457us/step - loss: 5.8211e-05 - acc: 1.0000 - val_loss: 0.6612 - val_acc: 0.8881\n",
      "Epoch 9/20\n",
      "15000/15000 [==============================] - 8s 510us/step - loss: 1.0950e-05 - acc: 1.0000 - val_loss: 0.7348 - val_acc: 0.8869\n",
      "Epoch 10/20\n",
      "15000/15000 [==============================] - 8s 524us/step - loss: 2.5701e-06 - acc: 1.0000 - val_loss: 0.7843 - val_acc: 0.8874\n",
      "Epoch 11/20\n",
      "15000/15000 [==============================] - 7s 493us/step - loss: 7.9804e-07 - acc: 1.0000 - val_loss: 0.8329 - val_acc: 0.8864\n",
      "Epoch 12/20\n",
      "15000/15000 [==============================] - 7s 494us/step - loss: 3.0758e-07 - acc: 1.0000 - val_loss: 0.8740 - val_acc: 0.8864\n",
      "Epoch 13/20\n",
      "15000/15000 [==============================] - 8s 510us/step - loss: 1.7094e-07 - acc: 1.0000 - val_loss: 0.9050 - val_acc: 0.8875\n",
      "Epoch 14/20\n",
      "15000/15000 [==============================] - 7s 499us/step - loss: 1.3377e-07 - acc: 1.0000 - val_loss: 0.9244 - val_acc: 0.8871\n",
      "Epoch 15/20\n",
      "15000/15000 [==============================] - 7s 469us/step - loss: 1.2171e-07 - acc: 1.0000 - val_loss: 0.9358 - val_acc: 0.8865\n",
      "Epoch 16/20\n",
      "15000/15000 [==============================] - 7s 467us/step - loss: 1.1684e-07 - acc: 1.0000 - val_loss: 0.9441 - val_acc: 0.8868\n",
      "Epoch 17/20\n",
      "15000/15000 [==============================] - 7s 459us/step - loss: 1.1452e-07 - acc: 1.0000 - val_loss: 0.9504 - val_acc: 0.8863\n",
      "Epoch 18/20\n",
      "15000/15000 [==============================] - 7s 445us/step - loss: 1.1320e-07 - acc: 1.0000 - val_loss: 0.9557 - val_acc: 0.8873\n",
      "Epoch 19/20\n",
      "15000/15000 [==============================] - 7s 488us/step - loss: 1.1234e-07 - acc: 1.0000 - val_loss: 0.9597 - val_acc: 0.8867\n",
      "Epoch 20/20\n",
      "15000/15000 [==============================] - 8s 504us/step - loss: 1.1181e-07 - acc: 1.0000 - val_loss: 0.9631 - val_acc: 0.8871\n"
     ]
    }
   ],
   "source": [
    "high.compile(optimizer = 'rmsprop',\n",
    "            loss = 'binary_crossentropy',\n",
    "            metrics = ['acc'])\n",
    "\n",
    "historyhigh = high.fit(partial_x_train,\n",
    "                        partial_y_train,\n",
    "                        epochs = 20,\n",
    "                        batch_size = 512,\n",
    "                        validation_data = (x_val, y_val))"
   ]
  },
  {
   "cell_type": "code",
   "execution_count": 15,
   "metadata": {},
   "outputs": [],
   "source": [
    "high_loss = historyhigh.history['val_loss']\n",
    "high_loss_training = historyhigh.history['loss']"
   ]
  },
  {
   "cell_type": "markdown",
   "metadata": {},
   "source": [
    "#### Plotting the validation loss"
   ]
  },
  {
   "cell_type": "code",
   "execution_count": 16,
   "metadata": {},
   "outputs": [
    {
     "data": {
      "image/png": "[encoded data removed]",
      "text/plain": [
       "<Figure size 432x288 with 1 Axes>"
      ]
     },
     "metadata": {
      "needs_background": "light"
     },
     "output_type": "display_data"
    }
   ],
   "source": [
    "plt.plot(epochs, original_loss, 'b+', label='Original model')\n",
    "plt.plot(epochs, high_loss, 'bo', label='Bigger model')\n",
    "plt.title('Effect of model capacity on validation loss')\n",
    "plt.xlabel('Epochs')\n",
    "plt.ylabel('Validation Loss')\n",
    "plt.legend()\n",
    "plt.grid()\n",
    "plt.show()"
   ]
  },
  {
   "cell_type": "markdown",
   "metadata": {},
   "source": [
    "#### Plotting the training loss"
   ]
  },
  {
   "cell_type": "code",
   "execution_count": 17,
   "metadata": {},
   "outputs": [
    {
     "data": {
      "image/png": "[encoded data removed]",
      "text/plain": [
       "<Figure size 432x288 with 1 Axes>"
      ]
     },
     "metadata": {
      "needs_background": "light"
     },
     "output_type": "display_data"
    }
   ],
   "source": [
    "plt.plot(epochs, original_loss_training, 'b+', label='Original model')\n",
    "plt.plot(epochs, high_loss_training, 'bo', label='Bigger model')\n",
    "plt.title('Effect of model capacity on training loss')\n",
    "plt.xlabel('Epochs')\n",
    "plt.ylabel('Training Loss')\n",
    "plt.legend()\n",
    "plt.grid()\n",
    "\n",
    "plt.show()"
   ]
  },
  {
   "cell_type": "markdown",
   "metadata": {},
   "source": [
    "#### Adding L2 weight regularization to the model"
   ]
  },
  {
   "cell_type": "code",
   "execution_count": 19,
   "metadata": {},
   "outputs": [
    {
     "name": "stdout",
     "output_type": "stream",
     "text": [
      "_________________________________________________________________\n",
      "Layer (type)                 Output Shape              Param #   \n",
      "=================================================================\n",
      "dense_10 (Dense)             (None, 16)                160016    \n",
      "_________________________________________________________________\n",
      "dense_11 (Dense)             (None, 16)                272       \n",
      "_________________________________________________________________\n",
      "dense_12 (Dense)             (None, 1)                 17        \n",
      "=================================================================\n",
      "Total params: 160,305\n",
      "Trainable params: 160,305\n",
      "Non-trainable params: 0\n",
      "_________________________________________________________________\n"
     ]
    }
   ],
   "source": [
    "from keras import regularizers\n",
    "\n",
    "modell2 = Sequential()\n",
    "modell2.add(Dense(16, kernel_regularizer=regularizers.l2(0.001), activation='relu', input_shape=(10000,)))\n",
    "modell2.add(Dense(16, kernel_regularizer=regularizers.l2(0.001), activation='relu'))\n",
    "modell2.add(Dense(1, activation='sigmoid'))\n",
    "modell2.summary()"
   ]
  },
  {
   "cell_type": "code",
   "execution_count": 20,
   "metadata": {},
   "outputs": [
    {
     "name": "stdout",
     "output_type": "stream",
     "text": [
      "Train on 15000 samples, validate on 10000 samples\n",
      "Epoch 1/20\n",
      "15000/15000 [==============================] - 3s 228us/step - loss: 0.5701 - acc: 0.7883 - val_loss: 0.4847 - val_acc: 0.8245\n",
      "Epoch 2/20\n",
      "15000/15000 [==============================] - 1s 92us/step - loss: 0.3763 - acc: 0.8952 - val_loss: 0.3677 - val_acc: 0.8766\n",
      "Epoch 3/20\n",
      "15000/15000 [==============================] - 1s 85us/step - loss: 0.2950 - acc: 0.9189 - val_loss: 0.3343 - val_acc: 0.8891\n",
      "Epoch 4/20\n",
      "15000/15000 [==============================] - 1s 81us/step - loss: 0.2554 - acc: 0.9303 - val_loss: 0.3360 - val_acc: 0.8834\n",
      "Epoch 5/20\n",
      "15000/15000 [==============================] - 1s 85us/step - loss: 0.2339 - acc: 0.9398 - val_loss: 0.3424 - val_acc: 0.8831\n",
      "Epoch 6/20\n",
      "15000/15000 [==============================] - 1s 81us/step - loss: 0.2178 - acc: 0.9471 - val_loss: 0.3335 - val_acc: 0.8844\n",
      "Epoch 7/20\n",
      "15000/15000 [==============================] - 1s 80us/step - loss: 0.2035 - acc: 0.9518 - val_loss: 0.3399 - val_acc: 0.8852\n",
      "Epoch 8/20\n",
      "15000/15000 [==============================] - 1s 81us/step - loss: 0.1966 - acc: 0.9539 - val_loss: 0.3473 - val_acc: 0.8834\n",
      "Epoch 9/20\n",
      "15000/15000 [==============================] - 1s 83us/step - loss: 0.1897 - acc: 0.9579 - val_loss: 0.3557 - val_acc: 0.8837\n",
      "Epoch 10/20\n",
      "15000/15000 [==============================] - 1s 85us/step - loss: 0.1804 - acc: 0.9593 - val_loss: 0.3692 - val_acc: 0.8753\n",
      "Epoch 11/20\n",
      "15000/15000 [==============================] - 1s 94us/step - loss: 0.1744 - acc: 0.9645 - val_loss: 0.3789 - val_acc: 0.8812\n",
      "Epoch 12/20\n",
      "15000/15000 [==============================] - 1s 100us/step - loss: 0.1698 - acc: 0.9656 - val_loss: 0.3758 - val_acc: 0.8810\n",
      "Epoch 13/20\n",
      "15000/15000 [==============================] - 1s 85us/step - loss: 0.1665 - acc: 0.9662 - val_loss: 0.3910 - val_acc: 0.8745\n",
      "Epoch 14/20\n",
      "15000/15000 [==============================] - 1s 82us/step - loss: 0.1587 - acc: 0.9702 - val_loss: 0.3903 - val_acc: 0.8767\n",
      "Epoch 15/20\n",
      "15000/15000 [==============================] - 1s 83us/step - loss: 0.1589 - acc: 0.9681 - val_loss: 0.4038 - val_acc: 0.8727\n",
      "Epoch 16/20\n",
      "15000/15000 [==============================] - 1s 86us/step - loss: 0.1548 - acc: 0.9701 - val_loss: 0.4158 - val_acc: 0.8680\n",
      "Epoch 17/20\n",
      "15000/15000 [==============================] - 1s 85us/step - loss: 0.1486 - acc: 0.9741 - val_loss: 0.4660 - val_acc: 0.8614\n",
      "Epoch 18/20\n",
      "15000/15000 [==============================] - 1s 79us/step - loss: 0.1433 - acc: 0.9759 - val_loss: 0.4270 - val_acc: 0.8709\n",
      "Epoch 19/20\n",
      "15000/15000 [==============================] - 1s 79us/step - loss: 0.1441 - acc: 0.9762 - val_loss: 0.4362 - val_acc: 0.8671\n",
      "Epoch 20/20\n",
      "15000/15000 [==============================] - 1s 80us/step - loss: 0.1374 - acc: 0.9790 - val_loss: 0.4286 - val_acc: 0.8750\n"
     ]
    }
   ],
   "source": [
    "modell2.compile(optimizer = 'rmsprop',\n",
    "                loss = 'binary_crossentropy',\n",
    "                metrics = ['acc'])\n",
    "\n",
    "historyl2 = modell2.fit(partial_x_train,\n",
    "                        partial_y_train,\n",
    "                        epochs = 20,\n",
    "                        batch_size = 512,\n",
    "                        validation_data = (x_val, y_val))"
   ]
  },
  {
   "cell_type": "code",
   "execution_count": 21,
   "metadata": {},
   "outputs": [],
   "source": [
    "l2_loss = historyl2.history['val_loss']"
   ]
  },
  {
   "cell_type": "markdown",
   "metadata": {},
   "source": [
    "#### Plotting the validation loss"
   ]
  },
  {
   "cell_type": "code",
   "execution_count": 22,
   "metadata": {},
   "outputs": [
    {
     "data": {
      "image/png": "[encoded data removed]",
      "text/plain": [
       "<Figure size 432x288 with 1 Axes>"
      ]
     },
     "metadata": {
      "needs_background": "light"
     },
     "output_type": "display_data"
    }
   ],
   "source": [
    "plt.plot(epochs, original_loss, 'b+', label='Original model')\n",
    "plt.plot(epochs, l2_loss, 'bo', label='L2-regularized model')\n",
    "plt.title('Effect of L2 weight regularization on validation loss')\n",
    "plt.xlabel('Epochs')\n",
    "plt.ylabel('Validation Loss')\n",
    "plt.legend()\n",
    "plt.grid()\n",
    "\n",
    "plt.show()"
   ]
  },
  {
   "cell_type": "markdown",
   "metadata": {},
   "source": [
    "#### Adding dropout to the IMDB network"
   ]
  },
  {
   "cell_type": "code",
   "execution_count": 23,
   "metadata": {},
   "outputs": [
    {
     "name": "stderr",
     "output_type": "stream",
     "text": [
      "W0924 11:19:43.869473 4549924288 deprecation.py:506] From /anaconda3/envs/keras-tensorflow/lib/python3.6/site-packages/keras/backend/tensorflow_backend.py:3445: calling dropout (from tensorflow.python.ops.nn_ops) with keep_prob is deprecated and will be removed in a future version.\n",
      "Instructions for updating:\n",
      "Please use `rate` instead of `keep_prob`. Rate should be set to `rate = 1 - keep_prob`.\n"
     ]
    },
    {
     "name": "stdout",
     "output_type": "stream",
     "text": [
      "_________________________________________________________________\n",
      "Layer (type)                 Output Shape              Param #   \n",
      "=================================================================\n",
      "dense_13 (Dense)             (None, 16)                160016    \n",
      "_________________________________________________________________\n",
      "dropout_1 (Dropout)          (None, 16)                0         \n",
      "_________________________________________________________________\n",
      "dense_14 (Dense)             (None, 16)                272       \n",
      "_________________________________________________________________\n",
      "dropout_2 (Dropout)          (None, 16)                0         \n",
      "_________________________________________________________________\n",
      "dense_15 (Dense)             (None, 1)                 17        \n",
      "=================================================================\n",
      "Total params: 160,305\n",
      "Trainable params: 160,305\n",
      "Non-trainable params: 0\n",
      "_________________________________________________________________\n"
     ]
    }
   ],
   "source": [
    "from keras.layers import Dropout\n",
    "\n",
    "model = Sequential()\n",
    "model.add(Dense(16, activation='relu', input_shape=(10000,)))\n",
    "model.add(Dropout(0.5))\n",
    "model.add(Dense(16, activation='relu'))\n",
    "model.add(Dropout(0.5))\n",
    "model.add(Dense(1, activation='sigmoid'))\n",
    "model.summary()"
   ]
  },
  {
   "cell_type": "code",
   "execution_count": 24,
   "metadata": {},
   "outputs": [
    {
     "name": "stdout",
     "output_type": "stream",
     "text": [
      "Train on 15000 samples, validate on 10000 samples\n",
      "Epoch 1/20\n",
      "15000/15000 [==============================] - 3s 202us/step - loss: 0.6383 - acc: 0.6244 - val_loss: 0.5502 - val_acc: 0.8383\n",
      "Epoch 2/20\n",
      "15000/15000 [==============================] - 1s 85us/step - loss: 0.5389 - acc: 0.7429 - val_loss: 0.4569 - val_acc: 0.8406\n",
      "Epoch 3/20\n",
      "15000/15000 [==============================] - 1s 89us/step - loss: 0.4597 - acc: 0.8098 - val_loss: 0.3973 - val_acc: 0.8559\n",
      "Epoch 4/20\n",
      "15000/15000 [==============================] - 1s 88us/step - loss: 0.3995 - acc: 0.8435 - val_loss: 0.3340 - val_acc: 0.8828\n",
      "Epoch 5/20\n",
      "15000/15000 [==============================] - 1s 86us/step - loss: 0.3480 - acc: 0.8722 - val_loss: 0.3127 - val_acc: 0.8841\n",
      "Epoch 6/20\n",
      "15000/15000 [==============================] - 1s 84us/step - loss: 0.3075 - acc: 0.8985 - val_loss: 0.3029 - val_acc: 0.8866\n",
      "Epoch 7/20\n",
      "15000/15000 [==============================] - 1s 85us/step - loss: 0.2707 - acc: 0.9129 - val_loss: 0.2969 - val_acc: 0.8868\n",
      "Epoch 8/20\n",
      "15000/15000 [==============================] - 1s 82us/step - loss: 0.2455 - acc: 0.9256 - val_loss: 0.2935 - val_acc: 0.8843\n",
      "Epoch 9/20\n",
      "15000/15000 [==============================] - 1s 80us/step - loss: 0.2236 - acc: 0.9337 - val_loss: 0.3002 - val_acc: 0.8848\n",
      "Epoch 10/20\n",
      "15000/15000 [==============================] - 1s 80us/step - loss: 0.1964 - acc: 0.9419 - val_loss: 0.3419 - val_acc: 0.8861\n",
      "Epoch 11/20\n",
      "15000/15000 [==============================] - 1s 83us/step - loss: 0.1831 - acc: 0.9477 - val_loss: 0.3495 - val_acc: 0.8853\n",
      "Epoch 12/20\n",
      "15000/15000 [==============================] - 1s 85us/step - loss: 0.1742 - acc: 0.9508 - val_loss: 0.3396 - val_acc: 0.8779\n",
      "Epoch 13/20\n",
      "15000/15000 [==============================] - 1s 88us/step - loss: 0.1534 - acc: 0.9567 - val_loss: 0.3808 - val_acc: 0.8841\n",
      "Epoch 14/20\n",
      "15000/15000 [==============================] - 1s 81us/step - loss: 0.1395 - acc: 0.9643 - val_loss: 0.3714 - val_acc: 0.8819\n",
      "Epoch 15/20\n",
      "15000/15000 [==============================] - 1s 80us/step - loss: 0.1327 - acc: 0.9649 - val_loss: 0.3986 - val_acc: 0.8826\n",
      "Epoch 16/20\n",
      "15000/15000 [==============================] - 1s 85us/step - loss: 0.1225 - acc: 0.9680 - val_loss: 0.4210 - val_acc: 0.8809\n",
      "Epoch 17/20\n",
      "15000/15000 [==============================] - 1s 81us/step - loss: 0.1137 - acc: 0.9703 - val_loss: 0.4953 - val_acc: 0.8836\n",
      "Epoch 18/20\n",
      "15000/15000 [==============================] - 1s 81us/step - loss: 0.1122 - acc: 0.9714 - val_loss: 0.4863 - val_acc: 0.8844\n",
      "Epoch 19/20\n",
      "15000/15000 [==============================] - 1s 86us/step - loss: 0.1043 - acc: 0.9723 - val_loss: 0.4997 - val_acc: 0.8842\n",
      "Epoch 20/20\n",
      "15000/15000 [==============================] - 1s 82us/step - loss: 0.1032 - acc: 0.9746 - val_loss: 0.5489 - val_acc: 0.8822\n"
     ]
    }
   ],
   "source": [
    "model.compile(optimizer = 'rmsprop',\n",
    "                loss = 'binary_crossentropy',\n",
    "                metrics = ['acc'])\n",
    "\n",
    "history_dropout = model.fit(partial_x_train,\n",
    "                            partial_y_train,\n",
    "                            epochs = 20,\n",
    "                            batch_size = 512,\n",
    "                            validation_data = (x_val, y_val))"
   ]
  },
  {
   "cell_type": "code",
   "execution_count": 25,
   "metadata": {},
   "outputs": [],
   "source": [
    "dropout_loss = history_dropout.history['val_loss']"
   ]
  },
  {
   "cell_type": "code",
   "execution_count": 26,
   "metadata": {},
   "outputs": [
    {
     "data": {
      "image/png": "[encoded data removed]",
      "text/plain": [
       "<Figure size 432x288 with 1 Axes>"
      ]
     },
     "metadata": {
      "needs_background": "light"
     },
     "output_type": "display_data"
    }
   ],
   "source": [
    "plt.plot(epochs, original_loss, 'b+', label='Original model')\n",
    "plt.plot(epochs, dropout_loss, 'bo', label='Dropout-regularized model')\n",
    "plt.title('Effect of dropout on validation loss')\n",
    "plt.xlabel('Epochs')\n",
    "plt.ylabel('Validation Loss')\n",
    "plt.legend()\n",
    "plt.grid()\n",
    "\n",
    "plt.show()"
   ]
  }
 ],
 "metadata": {
  "kernelspec": {
   "display_name": "Python 3",
   "language": "python",
   "name": "python3"
  },
  "language_info": {
   "codemirror_mode": {
    "name": "ipython",
    "version": 3
   },
   "file_extension": ".py",
   "mimetype": "text/x-python",
   "name": "python",
   "nbconvert_exporter": "python",
   "pygments_lexer": "ipython3",
   "version": "3.6.9"
  }
 },
 "nbformat": 4,
 "nbformat_minor": 2
}
